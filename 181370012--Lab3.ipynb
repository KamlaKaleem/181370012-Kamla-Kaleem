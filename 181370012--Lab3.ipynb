{
 "cells": [
  {
   "cell_type": "markdown",
   "id": "23c38337",
   "metadata": {},
   "source": [
    "Write a program that asks the user to enter a series of single-digit numbers with nothing separating\n",
    "them. The program should display the sum of all the single digit numbers in the string. For\n",
    "example, if the user enters 2514, the method should return 12, which is the sum of 2, 5, 1, and 4."
   ]
  },
  {
   "cell_type": "code",
   "execution_count": 17,
   "id": "86135cfc",
   "metadata": {},
   "outputs": [
    {
     "name": "stdout",
     "output_type": "stream",
     "text": [
      "Enter digit with no separator 3393993\n",
      "Sum of digits are  39\n"
     ]
    }
   ],
   "source": [
    "digit=input(\"Enter digit with no separator \")\n",
    "sum=0\n",
    "for i in digit:\n",
    "    sum+=int(i)\n",
    "print(\"Sum of digits are \",sum)"
   ]
  },
  {
   "cell_type": "markdown",
   "id": "69dd29f2",
   "metadata": {},
   "source": [
    "Morse code is a code where each letter of the English alphabet, each digit, and various punctuation\n",
    "characters are represented by a series of dots and dashes. Table 8-4 shows part of the code. Write\n",
    "a program that asks the user to enter a string, and then converts that string to Morse code."
   ]
  },
  {
   "cell_type": "code",
   "execution_count": null,
   "id": "0e9098ff",
   "metadata": {},
   "outputs": [],
   "source": []
  },
  {
   "cell_type": "markdown",
   "id": "d136927f",
   "metadata": {},
   "source": [
    "Sometimes, while working with Pythonn strings, we can have a problem in which we need to perform\n",
    "the slice and print of strings in reverse order. This can have application in day-day programming.\n",
    "So in this exercise write a program that reverse the string in incremental order.\n",
    "For Example:\n",
    "Orignal String : GIFT\n",
    "Incremental reverse strings: ['T','TF','TFI','TFIG']\n"
   ]
  },
  {
   "cell_type": "code",
   "execution_count": 18,
   "id": "c5e70890",
   "metadata": {},
   "outputs": [
    {
     "name": "stdout",
     "output_type": "stream",
     "text": [
      "Enter a string: kamla\n",
      "a,al,alm,alma,almak,"
     ]
    }
   ],
   "source": [
    "value=input(\"Enter a string: \")\n",
    "val=\"\"\n",
    "for i in value[::-1]:\n",
    " \n",
    "    val+=i\n",
    "    print(val, end=\",\")"
   ]
  },
  {
   "cell_type": "markdown",
   "id": "73e1f335",
   "metadata": {},
   "source": [
    "Write a program that asks the user to enter a 10-character telephone number in the format XXX-\n",
    "XXX-XXXX. The application should display the telephone number with any alphabetic characters\n",
    "\n",
    "that appeared in the original translated to their numeric equivalent. For example, if the user enters\n",
    "555-GET-FOOD the application should display 555-438-3663."
   ]
  },
  {
   "cell_type": "code",
   "execution_count": 20,
   "id": "3abb96e3",
   "metadata": {},
   "outputs": [
    {
     "name": "stdout",
     "output_type": "stream",
     "text": [
      "Enter a number in the format of XXX-XXX-XXXX: lol-hmm-good\n",
      "565-466-4663"
     ]
    }
   ],
   "source": [
    "number=input(\"Enter a number in the format of XXX-XXX-XXXX: \").upper()\n",
    "#code={'A,B,C':'2','D,E,F':'3','G,H,I':'4','J,K,L':'5','M,N,O':'6','P,Q,R,S':'7','T,U,V':'8','W,X,YZ':'9'}\n",
    "code={'A':'2','B':'2','C':'2','D':'3','E':'3','F':'3','G':'4','H':'4','I':'4','J':'5','K':'5','L':'5',\n",
    "      'M':'6','N':'6','O':'6','P':'7','Q':'7','R':'7','S':'7','T':'8','U':'8','V':'8',\n",
    "      'W':'9','X':'9','Y':'9','Z':'9'}\n",
    "for i in number:\n",
    "    convert=''\n",
    "    if(i.isdigit()or i=='-'):\n",
    "        convert+=i\n",
    "    else:\n",
    "         convert+=code[i]\n",
    "    print(convert,end='')"
   ]
  },
  {
   "cell_type": "code",
   "execution_count": null,
   "id": "c142d0a0",
   "metadata": {},
   "outputs": [],
   "source": []
  }
 ],
 "metadata": {
  "kernelspec": {
   "display_name": "Python 3",
   "language": "python",
   "name": "python3"
  },
  "language_info": {
   "codemirror_mode": {
    "name": "ipython",
    "version": 3
   },
   "file_extension": ".py",
   "mimetype": "text/x-python",
   "name": "python",
   "nbconvert_exporter": "python",
   "pygments_lexer": "ipython3",
   "version": "3.8.8"
  }
 },
 "nbformat": 4,
 "nbformat_minor": 5
}
