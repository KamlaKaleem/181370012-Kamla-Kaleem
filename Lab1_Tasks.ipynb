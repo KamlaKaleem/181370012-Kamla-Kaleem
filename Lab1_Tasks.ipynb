{
 "cells": [
  {
   "cell_type": "markdown",
   "id": "129baffc",
   "metadata": {},
   "source": [
    "1)\n",
    "Write a program that will ask the user to enter the amount of a purchase. The program should then\n",
    "compute the state and county sales tax. Assume the state sales tax is 5 percent and the county\n",
    "sales tax is 2.5 percent. The program should display the following: * The amount of the purchase\n",
    "* The state sales tax * The county sales tax * The total sales tax * and the total of the sale (which\n",
    "is the sum of the amount of purchase plus the total sales tax)."
   ]
  },
  {
   "cell_type": "code",
   "execution_count": 6,
   "id": "8510a4ac",
   "metadata": {
    "scrolled": true
   },
   "outputs": [
    {
     "name": "stdout",
     "output_type": "stream",
     "text": [
      "Enter Amount of Purchase:6000\n",
      "\n",
      "Amount of purchase:  6000.0 \n",
      "State sales Tax(5%):  300.0 \n",
      "County sales tax(2.5%):  150.0 \n",
      "Total sale tax:  450.0 \n",
      "Total sale amount is 6450.0\n"
     ]
    }
   ],
   "source": [
    "amount = float(input (\"Enter Amount of Purchase:\"))\n",
    "x = float(5/100*amount)\n",
    "y = float(2.5/100*amount)\n",
    "z = float(x+y)\n",
    "total = amount+z\n",
    "print(\"\\nAmount of purchase: \",amount, \"\\nState sales Tax(5%): \",x, \"\\nCounty sales tax(2.5%): \",y,\"\\nTotal sale tax: \",z, \"\\nTotal sale amount is\",total)"
   ]
  },
  {
   "cell_type": "markdown",
   "id": "da9d30fa",
   "metadata": {},
   "source": [
    "2)\n",
    "Write a program that calculates the total amount of a meal purchased at a restaurant. The program\n",
    "should ask the user to enter the charge for the food, and then calculate the amount of a 18 percent\n",
    "tip and 7 percent sales tax. Display each of these amounts and the total."
   ]
  },
  {
   "cell_type": "code",
   "execution_count": 9,
   "id": "3a462803",
   "metadata": {},
   "outputs": [
    {
     "name": "stdout",
     "output_type": "stream",
     "text": [
      "enter the amount of meal:  2000\n",
      "amount of meal:   2000 \n",
      "Tip (18%) 360.0 \n",
      "sale tax (7%):  140.0 \n",
      "Total:  2500.0\n"
     ]
    }
   ],
   "source": [
    "amount = int(input(\"enter the amount of meal:  \"))\n",
    "x= (18/100*amount)\n",
    "y= float(7/100*amount)\n",
    "total = amount+x+y\n",
    "print(\"amount of meal:  \",amount,\"\\nTip (18%)\" ,x,\"\\nsale tax (7%): \",y,\"\\nTotal: \",total)\n"
   ]
  },
  {
   "cell_type": "markdown",
   "id": "9c306323",
   "metadata": {},
   "source": [
    "3)\n",
    "A cookie recipe calls for the following ingredients: * 1.5 cups of sugar * 1 cup of butter * 2.75 cups\n",
    "of flour The recipe produces 48 cookies with this amount of the ingredients. Write a program that asks\n",
    "the user how many cookies he or she wants to make, and then displays the number of cups of each\n",
    "ingredient needed for the specified number of cookies."
   ]
  },
  {
   "cell_type": "code",
   "execution_count": 10,
   "id": "0ba90e89",
   "metadata": {},
   "outputs": [
    {
     "name": "stdout",
     "output_type": "stream",
     "text": [
      "How many cookies You Want to make..?200\n",
      "total cookies :   200.0\n",
      "total sugar :   6.25\n",
      "total butter :   4.166666666666667\n",
      "total flour :   11.458333333333334\n"
     ]
    }
   ],
   "source": [
    "number_of_cookies= float(input(\"How many cookies You Want to make..?\"))\n",
    "sugar=1.5\n",
    "butter=1\n",
    "cookies=48\n",
    "flour=2.75\n",
    "total_sugar=(sugar*number_of_cookies)/cookies\n",
    "total_butter=(butter*number_of_cookies)/cookies\n",
    "total_flour=(flour*number_of_cookies)/cookies\n",
    "print(\"total cookies :  \",number_of_cookies)\n",
    "print(\"total sugar :  \",total_sugar)\n",
    "print(\"total butter :  \",total_butter)\n",
    "print(\"total flour :  \",total_flour)"
   ]
  },
  {
   "cell_type": "markdown",
   "id": "dd1e5f66",
   "metadata": {},
   "source": [
    "4)\n",
    "Write a program that asks the user for the number of males and the number of females registered\n",
    "in a class. The program should display the percentage of males and females in the class.\n",
    "Hint: Suppose there are 8 males and 12 females in a class. There are 20 students in the class. The\n",
    "percentage of males can be calculated as 8 4 20 5 0.4, or 40%. The percentage of females can be\n",
    "calculated as 12 4 20 5 0.6, or 60%."
   ]
  },
  {
   "cell_type": "code",
   "execution_count": 14,
   "id": "0e52cfbe",
   "metadata": {},
   "outputs": [
    {
     "name": "stdout",
     "output_type": "stream",
     "text": [
      "enter the number of male students:  10\n",
      "enter the number of female students:  3\n",
      "total students:   13.0 \n",
      "Male percentage :  76.92307692307693 % \n",
      "Female percentage:   23.076923076923077 %\n"
     ]
    }
   ],
   "source": [
    "male=float(input(\"enter the number of male students:  \"))\n",
    "female=float(input(\"enter the number of female students:  \"))\n",
    "total=male+female\n",
    "perMale=male/total*100\n",
    "perFemale=female/total*100\n",
    "print(\"total students:  \" ,total, \"\\nMale percentage : \",perMale,\"%\",\"\\nFemale percentage:  \",perFemale,\"%\")"
   ]
  },
  {
   "cell_type": "markdown",
   "id": "b83ab401",
   "metadata": {},
   "source": [
    "5)\n",
    "Last month Joe purchased some stock in Acme Software, Inc. Here are the details of the purchase:\n",
    "* The number of shares that Joe purchased was 2,000. * When Joe purchased the stock, he paid\n",
    "40.00 Dollar per share. * Joe paid his stockbroker a commission that amounted to 3 percent of the\n",
    "amount he paid for the stock.\n",
    "Two weeks later Joe sold the stock. Here are the details of the sale: * The number of shares that\n",
    "Joe sold was 2,000. * He sold the stock for 42.75 Dollar per share. * He paid his stockbroker\n",
    "another commission that amounted to 3 percent of the amount he received for the stock.\n",
    "Write a program that displays the following information: * The amount of money Joe paid for the\n",
    "stock. * The amount of commission Joe paid his broker when he bought the stock. * The amount\n",
    "that Joe sold the stock for. * The amount of commission Joe paid his broker when he sold the\n",
    "stock. * Display the amount of money that Joe had left when he sold the stock and paid his broker\n",
    "(both times). If this amount is positive, then Joe made a profit. If the amount is negative, then\n",
    "Joe lost money.\n",
    "10"
   ]
  },
  {
   "cell_type": "code",
   "execution_count": 19,
   "id": "2479175d",
   "metadata": {},
   "outputs": [
    {
     "name": "stdout",
     "output_type": "stream",
     "text": [
      "joe First purchase Stock: 5000\n",
      "\n",
      "Per Share:  40.0 \n",
      "Total Purchase:  200000.0 \n",
      "Broker Commission purchase Time(3%):  6000.0 \n",
      "Joe Paid Total Amount:  206000.0\n",
      "Joe Sale Stock of: 2000\n",
      "Per Share:  42.75 \n",
      "Total Purchase:  85500.0 \n",
      "Broker Commission Sale Time(3%):  2565.0 \n",
      "Joe Total Sale Amount:  82935.0\n",
      "Joe Remaining Amount:  -123065.0\n",
      "Joe made a profit!\n"
     ]
    }
   ],
   "source": [
    "firstPurchase= float(input(\"joe First purchase Stock: \"))\n",
    "pShare = float(40.00)\n",
    "totalPurchase= firstPurchase*pShare\n",
    "pCommission= 3/100*totalPurchase\n",
    "tamount= totalPurchase+pCommission\n",
    "print(\"\\nPer Share: \",pShare,\"\\nTotal Purchase: \",totalPurchase,\"\\nBroker Commission purchase Time(3%): \",pCommission,\"\\nJoe Paid Total Amount: \",tamount)\n",
    "sale= float(input(\"Joe Sale Stock of: \"))\n",
    "sShare = float(42.75)\n",
    "totalSale = sale*sShare\n",
    "sCommission= 3/100*totalSale\n",
    "tSale = totalSale-sCommission\n",
    "print(\"Per Share: \",sShare,\"\\nTotal Purchase: \",totalSale,\"\\nBroker Commission Sale Time(3%): \",sCommission,\"\\nJoe Total Sale Amount: \",tSale)\n",
    "rAmount = float(tSale-tamount)\n",
    "print(\"Joe Remaining Amount: \",rAmount)\n",
    "if rAmount<tamount:\n",
    "    print(\"Joe made a profit!\"),\n",
    "else:\n",
    "        print(\"Joe lost money!\")\n",
    "    "
   ]
  },
  {
   "cell_type": "code",
   "execution_count": null,
   "id": "22ae0ecf",
   "metadata": {},
   "outputs": [],
   "source": []
  }
 ],
 "metadata": {
  "kernelspec": {
   "display_name": "Python 3",
   "language": "python",
   "name": "python3"
  },
  "language_info": {
   "codemirror_mode": {
    "name": "ipython",
    "version": 3
   },
   "file_extension": ".py",
   "mimetype": "text/x-python",
   "name": "python",
   "nbconvert_exporter": "python",
   "pygments_lexer": "ipython3",
   "version": "3.8.8"
  }
 },
 "nbformat": 4,
 "nbformat_minor": 5
}
