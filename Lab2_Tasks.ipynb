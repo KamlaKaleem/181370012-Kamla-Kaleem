{
 "cells": [
  {
   "cell_type": "markdown",
   "id": "48cf64f0",
   "metadata": {},
   "source": [
    "Scientists measure an object’s mass in kilograms and its weight in newtons. If you know the amount\n",
    "of mass of an object in kilograms, you can calculate its weight in newtons with the following formula:\n",
    "**\n",
    "weight = mass * 3 9.8\n",
    "** Write a program that asks the user to enter an object’s mass, and then calculates its weight. If\n",
    "the object weighs more than 500 newtons, display a message indicating that it is too heavy. If the\n",
    "object weighs less than 100 newtons, display a message indicating that it is too light."
   ]
  },
  {
   "cell_type": "code",
   "execution_count": 3,
   "id": "f65f8c7d",
   "metadata": {},
   "outputs": [
    {
     "name": "stdout",
     "output_type": "stream",
     "text": [
      "Enter the weight of object700\n",
      "weight in newton 27859.999999999996 N\n",
      "it is too heavy.\n"
     ]
    }
   ],
   "source": [
    "mass=float(input(\"Enter the weight of object\"))\n",
    "weight=float(mass*39.8)\n",
    "print(\"weight in newton\",weight,\"N\")\n",
    "if mass>500:\n",
    "   print(\"it is too heavy.\")\n",
    "elif weight<100:\n",
    "    print(\"it is too light.\")"
   ]
  },
  {
   "cell_type": "markdown",
   "id": "b66e8f70",
   "metadata": {},
   "source": [
    "Assume that hot dogs come in packages of 10, and hot dog buns come in packages of 8. Write a\n",
    "program that calculates the number of packages of hot dogs and the number of packages of hot dog\n",
    "buns needed for a cookout, with the minimum amount of leftovers. The program should ask the\n",
    "user for the number of people attending the cookout and the number of hot dogs each person will\n",
    "be given. The program should display the following details: * The minimum number of packages\n",
    "of hot dogs required * The minimum number of packages of hot dog buns required * The number\n",
    "of hot dogs that will be left over * The number of hot dog buns that will be left over"
   ]
  },
  {
   "cell_type": "code",
   "execution_count": 7,
   "id": "bf23b403",
   "metadata": {},
   "outputs": [
    {
     "ename": "SyntaxError",
     "evalue": "invalid syntax (<ipython-input-7-1fffc278a859>, line 10)",
     "output_type": "error",
     "traceback": [
      "\u001b[1;36m  File \u001b[1;32m\"<ipython-input-7-1fffc278a859>\"\u001b[1;36m, line \u001b[1;32m10\u001b[0m\n\u001b[1;33m    ceilval1 = math.ceil(hotdogpkgs)\u001b[0m\n\u001b[1;37m    ^\u001b[0m\n\u001b[1;31mSyntaxError\u001b[0m\u001b[1;31m:\u001b[0m invalid syntax\n"
     ]
    }
   ],
   "source": [
    "import math\n",
    "numberofpeople = float(input(\"no. of people attending cookout:  \"))\n",
    "per_hotdogs=10\n",
    "per_hotbuns=8\n",
    "per_hotdogs = float(input(\"Hot Dogs for per person:  \"))\n",
    "per_hotbuns = float(input(\"Hot Buns for per person:  \"))\n",
    "total_hotdogs=per_hotdogs*numberofpeople\n",
    "total_hotbuns=per_hotbuns*numberofpeople\n",
    "hotdogpkgs = float(total_hotdogs/hotdogs\n",
    "ceilval1 = math.ceil(hotdogpkgs)\n",
    "hotbunpkgs = float(total_hotbuns/hotbuns\n",
    "ceilval2 = math.ceil(hotbunpkgs)\n",
    "print(\"\\nHot dog Peckages are: \",ceilval1)\n",
    "print(\"\\nHot bun Peckages are: \",ceilval2)\n",
    "remhotdogs = int(ceilval1*hotdogs-total_hotdogs)\n",
    "remhotbuns = int(ceilval2*hotbuns-total_hotbuns)\n",
    "print(\"\\nThe number of hot dogs that will be left: \",remhotdogs)\n",
    "print(\"The number of hot dog buns that will be left: \",remhotbuns)\n"
   ]
  },
  {
   "cell_type": "markdown",
   "id": "ea7e2020",
   "metadata": {},
   "source": [
    "7.3 Miles Per Gallon\n",
    "Drivers are concerned with the mileage obtained by their automobiles. One driver has kept track\n",
    "of several tankfuls of gasoline by recording miles driven and gallons used for each tankful. Develop\n",
    "a sentinel-controlled-repetition script that prompts the user to input the miles driven and gallons\n",
    "used for each tankful. The script should calculate and display the miles per gallon obtained for\n",
    "each tankful. After processing all input information, the script should calculate and display the\n",
    "combined miles per gallon obtained for all tankfuls (that is, total miles driven divided by total\n",
    "gallons used).\n",
    "• Enter the gallons used (-1 to end): 12.8\n",
    "• Enter the miles driven: 287\n",
    "• The miles/gallon for this tank was 22.421875\n",
    "• Enter the gallons used (-1 to end): 10.3\n",
    "• Enter the miles driven: 200\n",
    "• The miles/gallon for this tank was 19.417475\n",
    "• Enter the gallons used (-1 to end): 5\n",
    "• Enter the miles driven: 120\n",
    "• The miles/gallon for this tank was 24.000000\n",
    "• Enter the gallons used (-1 to end): -1\n",
    "• The overall average miles/gallon was 21.601423"
   ]
  },
  {
   "cell_type": "code",
   "execution_count": 8,
   "id": "35d5c177",
   "metadata": {},
   "outputs": [
    {
     "name": "stdout",
     "output_type": "stream",
     "text": [
      "Enter the gallons used(-1 t0 end): -3\n",
      "You enter InValid data!\n",
      "Enter the gallons used(-1 t0 end): -4\n",
      "You enter InValid data!\n",
      "Enter the gallons used(-1 t0 end): -8\n",
      "You enter InValid data!\n",
      "Enter the gallons used(-1 t0 end): -2\n",
      "You enter InValid data!\n"
     ]
    }
   ],
   "source": [
    "g1= float(input(\"Enter the gallons used(-1 t0 end): \"))\n",
    "if g1>=-1:\n",
    "    miles1= float(input(\"Enter the miles driven: \"))\n",
    "    miles_per_gallon1 = float(miles1/g1)\n",
    "    print(\"The miles/gallon for this tank was\",miles_per_gallon1)\n",
    "else:\n",
    "    print(\"You enter InValid data!\")\n",
    "-3\n",
    "g2= float(input(\"Enter the gallons used(-1 t0 end): \"))\n",
    "if g2>=-1:\n",
    "    miles2= float(input(\"Enter the miles driven: \"))\n",
    "    miles_per_gallon2 = float(miles2/g2)\n",
    "    print(\"The miles/gallon for this tank was\",miles_per_gallon2)\n",
    "else:\n",
    "    print(\"You enter InValid data!\")\n",
    "g3= float(input(\"Enter the gallons used(-1 t0 end): \"))\n",
    "if g3>=-1:\n",
    "    miles3= float(input(\"Enter the miles driven: \"))\n",
    "    miles_per_gallon3 = float(miles3/g3)\n",
    "    print(\"The miles/gallon for this tank was\",miles_per_gallon3)\n",
    "else:\n",
    "    print(\"You enter InValid data!\")\n",
    "g4= float(input(\"Enter the gallons used(-1 t0 end): \"))\n",
    "if g3>=-1:\n",
    "    total_miles = float(miles1+miles2+miles3)\n",
    "    total_gallon = float(g1+g2+g3)\n",
    "    avg = total_miles/total_gallon\n",
    "    print(\"The overall average miles/gallon was\",avg)\n",
    "else:\n",
    "    print(\"You enter InValid data!\")"
   ]
  },
  {
   "cell_type": "markdown",
   "id": "a8a19d2e",
   "metadata": {},
   "source": [
    "A software company sells a package that retails for $99. Quantity discounts are given according to\n",
    "the following table:\n",
    "\n",
    "Quantity Discount\n",
    "10–19 10%\n",
    "20–49 20%\n",
    "50–99 30%\n",
    "100 or more 40%\n",
    "\n",
    "Write a program that asks the user to enter the number of packages purchased. The program\n",
    "should then display the amount of the discount (if any) and the total amount of the purchase after\n",
    "the discount."
   ]
  },
  {
   "cell_type": "code",
   "execution_count": 9,
   "id": "04672fa6",
   "metadata": {},
   "outputs": [
    {
     "name": "stdout",
     "output_type": "stream",
     "text": [
      "Enter the number of packages: 200\n",
      "Your Bill:  19800.0\n",
      " You got 40 % Discount on your Bill... Total Bill After 40% Discount is 11880.0\n"
     ]
    }
   ],
   "source": [
    "package= 99\n",
    "no_of_pkgs = float(input(\"Enter the number of packages: \"))\n",
    "bill = no_of_pkgs*package\n",
    "print(\"Your Bill: \",bill)\n",
    "if no_of_pkgs>=10 and no_of_pkgs<=19:\n",
    "    discount = float(10/100*bill)\n",
    "    total_bill = bill-discount\n",
    "    print(\" You got 10 % Discount on your Bill...\",\"Total Bill After 10% Discount is\",total_bill)\n",
    "elif no_of_pkgs>=20 and no_of_pkgs<=49:\n",
    "    discount = float(20/100*bill)\n",
    "    total_bill = bill-discount\n",
    "    print(\" You got 20 % Discount on your Bill...\",\"Total Bill After 20% Discount is\",total_bill)\n",
    "elif no_of_pkgs>=50 and no_of_pkgs<=99:\n",
    "    discount = float(30/100*bill)\n",
    "    total_bill = bill-discount\n",
    "    print(\" You got 30 % Discount on your Bill...\",\"Total Bill After 30% Discount is\",total_bill)\n",
    "elif no_of_pkgs>=100:\n",
    "    discount = float(40/100*bill)\n",
    "    total_bill = bill-discount\n",
    "    print(\" You got 40 % Discount on your Bill...\",\"Total Bill After 40% Discount is\",total_bill)"
   ]
  },
  {
   "cell_type": "markdown",
   "id": "273dcf0f",
   "metadata": {},
   "source": [
    "7.5 Shipping Charges\n",
    "The Fast Freight Shipping Company charges the following rates:\n",
    "\n",
    "Weight of Package Rate per Pound (Dollar)\n",
    "2 pounds or less 1.50\n",
    "Over 2 pounds but not more than 6 pounds 3.00\n",
    "Over 6 pounds but not more than 10 pounds 4.00\n",
    "Over 10 pounds 4.75\n",
    "\n",
    "Write a program that asks the user to enter the weight of a package and then displays the shipping\n",
    "charges."
   ]
  },
  {
   "cell_type": "code",
   "execution_count": 12,
   "id": "439fc4f1",
   "metadata": {},
   "outputs": [
    {
     "name": "stdout",
     "output_type": "stream",
     "text": [
      "Enter the weight of a package in pound: 4\n",
      "Your shipping charges per pound is 3.0 \n",
      "Your total Shipping Bill is  12.0 Dollars\n"
     ]
    }
   ],
   "source": [
    "no_of_pkgs = float(input(\"Enter the weight of a package in pound: \"))\n",
    "r1=1.50\n",
    "r2=3.00\n",
    "r3=4.00\n",
    "r4=4.75\n",
    "if no_of_pkgs<=2:\n",
    "    charges= no_of_pkgs*r1\n",
    "    print(\"Your shipping charges per pound is\",r1,\"\\nYour total Shipping Bill is \",charges,\"Dollars\")\n",
    "elif no_of_pkgs>2 and no_of_pkgs<=6:\n",
    "    charges= no_of_pkgs*r2\n",
    "    print(\"Your shipping charges per pound is\",r2,\"\\nYour total Shipping Bill is \",charges,\"Dollars\")\n",
    "elif no_of_pkgs<=2:\n",
    "    charges= no_of_pkgs*r3\n",
    "    print(\"Your shipping charges per pound is\",r3,\"\\nYour total Shipping Bill is \",charges,\"Dollars\")\n",
    "elif no_of_pkgs>=100:\n",
    "     charges= no_of_pkgs*r4\n",
    "     print(\"Your shipping charges per pound is\",r4,\"\\nYour total Shipping Bill is \",charges,\"Dollars\")"
   ]
  },
  {
   "cell_type": "markdown",
   "id": "e8313ee2",
   "metadata": {},
   "source": [
    "7.6 Body Mass Index\n",
    "Write a program that calculates and displays a person’s body mass index (BMI). The BMI is often\n",
    "used to determine whether a person is overweight or underweight for his or her height. A person’s\n",
    "BMI is calculated with the following formula:\n",
    "**\n",
    "BMI = weight * 703 / height^2\n",
    "**\n",
    "where weight is measured in pounds and height is measured in inches. The program should ask the\n",
    "user to enter his or her weight and height and then display the user’s BMI. The program should\n",
    "also display a message indicating whether the person has optimal weight, is underweight, or is\n",
    "overweight. A person’s weight is considered to be optimal if his or her BMI is between 18.5 and\n",
    "25. If the BMI is less than 18.5, the person is considered to be underweight. If the BMI value is\n",
    "greater than 25, the person is considered to be overweight."
   ]
  },
  {
   "cell_type": "code",
   "execution_count": 13,
   "id": "3e484a23",
   "metadata": {},
   "outputs": [
    {
     "name": "stdout",
     "output_type": "stream",
     "text": [
      "Enter your Weight in pounds: 600\n",
      "Enter your height in inches: 50\n",
      "Your BMI is:  168.72\n",
      "You are Overweight!\n"
     ]
    }
   ],
   "source": [
    "weight = float(input(\"Enter your Weight in pounds: \"))\n",
    "height = float(input(\"Enter your height in inches: \"))\n",
    "bmi = weight * 703 / height**2\n",
    "print(\"Your BMI is: \",bmi)\n",
    "if bmi>=18.5 and bmi<=25:\n",
    "    print(\"You are in Optimal Condition!\")\n",
    "elif bmi<18.5:\n",
    "    print(\"You are in UnderWeight!\")\n",
    "elif bmi>25:\n",
    "    print(\"You are Overweight!\")"
   ]
  },
  {
   "cell_type": "markdown",
   "id": "e150390c",
   "metadata": {},
   "source": [
    "8.1 Budget Analysis\n",
    "Write a program that asks the user to enter the amount that he or she has budgeted for a month.\n",
    "A loop should then prompt the user to enter each of his or her expenses for the month and keep\n",
    "a running total. When the loop finishes, the program should display the amount that the user is\n",
    "over or under budget."
   ]
  },
  {
   "cell_type": "code",
   "execution_count": 14,
   "id": "8f537778",
   "metadata": {},
   "outputs": [
    {
     "name": "stdout",
     "output_type": "stream",
     "text": [
      "Enter your budget: 200\n",
      "Enter expense :50\n",
      "Do you have more expenses {y/n} :y\n",
      "Enter expense :250\n",
      "Do you have more expenses {y/n} :n\n",
      "budget : 200.0 \n",
      "expenses : 300.0\n",
      "Over Budget\n"
     ]
    }
   ],
   "source": [
    "check=0\n",
    "sum=0.0\n",
    "budget = float(input(\"Enter your budget: \"))\n",
    "while check!=-1:\n",
    "    expense =float(input(\"Enter expense :\"))\n",
    "    exp=input(\"Do you have more expenses {y/n} :\")\n",
    "    sum +=expense\n",
    "    if exp==\"n\" or exp==\"N\":\n",
    "        check=-1\n",
    "if(sum < budget):\n",
    "    print(\"budget :\",budget,\"\\nexpenses :\",sum)\n",
    "    print(\"Under Budget\")\n",
    "elif (sum > budget): \n",
    "    print(\"budget :\",budget,\"\\nexpenses :\",sum)\n",
    "    print(\"Over Budget\")"
   ]
  },
  {
   "cell_type": "markdown",
   "id": "6964cac3",
   "metadata": {},
   "source": [
    "8.2 Average Rainfall\n",
    "Write a program that uses nested loops to collect data and calculate the average rainfall over a\n",
    "period of years. The program should first ask for the number of years. The outer loop will iterate\n",
    "once for each year. The inner loop will iterate twelve times, once for each month. Each iteration\n",
    "of the inner loop will ask the user for the inches of rainfall for that month. After all iterations, the\n",
    "program should display the number of months, the total inches of rainfall, and the average rainfall\n",
    "per month for the entire period."
   ]
  },
  {
   "cell_type": "code",
   "execution_count": 1,
   "id": "0cd78477",
   "metadata": {},
   "outputs": [
    {
     "name": "stdout",
     "output_type": "stream",
     "text": [
      "Enter number of years :2\n",
      "Enter the inches of rainfall for that month :1\n",
      "Month  1\n",
      "Years  1\n",
      "Enter the inches of rainfall for that month :1\n",
      "Month  2\n",
      "Years  1\n",
      "Enter the inches of rainfall for that month :1\n",
      "Month  3\n",
      "Years  1\n",
      "Enter the inches of rainfall for that month :1\n",
      "Month  4\n",
      "Years  1\n",
      "Enter the inches of rainfall for that month :1\n",
      "Month  5\n",
      "Years  1\n",
      "Enter the inches of rainfall for that month :1\n",
      "Month  6\n",
      "Years  1\n",
      "Enter the inches of rainfall for that month :1\n",
      "Month  7\n",
      "Years  1\n",
      "Enter the inches of rainfall for that month :1\n",
      "Month  8\n",
      "Years  1\n",
      "Enter the inches of rainfall for that month :1\n",
      "Month  9\n",
      "Years  1\n",
      "Enter the inches of rainfall for that month :1\n",
      "Month  10\n",
      "Years  1\n",
      "Enter the inches of rainfall for that month :1\n",
      "Month  11\n",
      "Years  1\n",
      "Enter the inches of rainfall for that month :1\n",
      "Month  12\n",
      "Years  1\n",
      "Enter the inches of rainfall for that month :1\n",
      "Month  1\n",
      "Years  2\n",
      "Enter the inches of rainfall for that month :1\n",
      "Month  2\n",
      "Years  2\n",
      "Enter the inches of rainfall for that month :1\n",
      "Month  3\n",
      "Years  2\n",
      "Enter the inches of rainfall for that month :1\n",
      "Month  4\n",
      "Years  2\n",
      "Enter the inches of rainfall for that month :1\n",
      "Month  5\n",
      "Years  2\n",
      "Enter the inches of rainfall for that month :1\n",
      "Month  6\n",
      "Years  2\n",
      "Enter the inches of rainfall for that month :1\n",
      "Month  7\n",
      "Years  2\n",
      "Enter the inches of rainfall for that month :1\n",
      "Month  8\n",
      "Years  2\n",
      "Enter the inches of rainfall for that month :1\n",
      "Month  9\n",
      "Years  2\n",
      "Enter the inches of rainfall for that month :1\n",
      "Month  10\n",
      "Years  2\n",
      "Enter the inches of rainfall for that month :1\n",
      "Month  11\n",
      "Years  2\n",
      "Enter the inches of rainfall for that month :1\n",
      "Month  12\n",
      "Years  2\n",
      "Number of months : 24\n",
      "inches of rainfall : 24\n",
      "Average of rainfall : 1.0\n"
     ]
    }
   ],
   "source": [
    "inchesrainfall=0\n",
    "totalmonth=0\n",
    "\n",
    "num_of_Years=int(input(\"Enter number of years :\"))\n",
    "\n",
    "for years in range(1,num_of_Years + 1):\n",
    "    for months in range(1,13):\n",
    "        monthly_rainfall=int(input(\"Enter the inches of rainfall for that month :\"))\n",
    "        print(\"Month \",months) \n",
    "        print(\"Years \",years)\n",
    "        inchesrainfall =inchesrainfall + monthly_rainfall\n",
    "        totalmonth +=1\n",
    "avgrainfall= inchesrainfall/ totalmonth\n",
    "print(\"Number of months :\",totalmonth)\n",
    "print(\"inches of rainfall :\",inchesrainfall)\n",
    "print(\"Average of rainfall :\",avgrainfall)\n",
    "\n"
   ]
  },
  {
   "cell_type": "markdown",
   "id": "f4664ec3",
   "metadata": {},
   "source": [
    "# "
   ]
  },
  {
   "cell_type": "markdown",
   "id": "8461f9e1",
   "metadata": {},
   "source": [
    "8.3 Guess the Number\n",
    "Write a script that plays “guess the number.” Choose the number to be guessed by selecting a\n",
    "random integer in the range 1 to 1000. Do not reveal this number to the user. Display the\n",
    "prompt “Guess my number between 1 and 1000 with the fewest guesses:”. The player\n",
    "inputs a first guess. If the guess is incorrect, display “Too high. Try again.” or “Too low. Try\n",
    "again.” as appropriate to help the player “zero in” on the correct answer, then prompt the user\n",
    "for the next guess. When the user enters the correct answer, display “Congratulations. You\n",
    "guessed the number!”, and allow the user to choose whether to play again."
   ]
  },
  {
   "cell_type": "code",
   "execution_count": 4,
   "id": "0a581f73",
   "metadata": {},
   "outputs": [
    {
     "name": "stdout",
     "output_type": "stream",
     "text": [
      "What is Your Name: kamla kashmiri\n",
      "Hi! kamla kashmiri I'm thinking a random number between 1 to 1000.\n",
      "Enter a guess 500\n",
      "That was too high!\n",
      "Enter a guess 100\n",
      "That was too high!\n",
      "Enter a guess 250\n",
      "That was too high!\n",
      "Enter a guess 150\n",
      "That was too high!\n",
      "Enter a guess 50\n",
      "That was too high!\n",
      "You lose!, better luck next time.The right number is  19\n"
     ]
    }
   ],
   "source": [
    "import random\n",
    "name = input(\"What is Your Name: \")\n",
    "number= random.randint(1,1000)\n",
    "print(\"Hi!\",name,\"I'm thinking a random number between 1 to 1000.\")\n",
    "guessTaken = 0\n",
    "while guessTaken < 5:\n",
    "    guess = input(\"Enter a guess \")\n",
    "    guess = int(guess)\n",
    "    guessTaken = guessTaken +1\n",
    "    if guess <number:\n",
    "        print(\"That was too low!\")\n",
    "    elif guess > number:\n",
    "        print(\"That was too high!\")\n",
    "    else:\n",
    "        break\n",
    "if guess == number:\n",
    "    print(\"Congratulations!\",name,\"You guessed the number!\")\n",
    "else:\n",
    "    print(\"You lose!, better luck next time.The right number is \",number)"
   ]
  },
  {
   "cell_type": "code",
   "execution_count": null,
   "id": "873d1222",
   "metadata": {},
   "outputs": [],
   "source": [
    "8.4 Population\n",
    "Write a program that predicts the approximate size of a population of organisms. The application\n",
    "should allow the user to enter the starting number of organisms, the average daily population\n",
    "increase (as a percentage), and the number of days the organisms will be left to multiply. For\n",
    "example, assume the user enters the following values:\n",
    "Starting number of organisms: 2\n",
    "Average daily increase: 30%\n",
    "Number of days to multiply: 10\n",
    "The program should display the following table of data:\n",
    "Day Approximate Population\n",
    "1 2\n",
    "2 2.6\n",
    "Day Approximate Population\n",
    "3 3.38\n",
    "4 4.394\n",
    "5 5.7122\n",
    "6 7.42586\n",
    "7 9.653619\n",
    "8 12.5497\n",
    "9 16.31462\n",
    "10 21.209"
   ]
  },
  {
   "cell_type": "code",
   "execution_count": 3,
   "id": "9579055c",
   "metadata": {},
   "outputs": [
    {
     "name": "stdout",
     "output_type": "stream",
     "text": [
      "Enter number of organisms :3\n",
      "Enter the average daily population increase :20\n",
      "Enter number of days the organisms will be left to multiply :5\n",
      "Day: 1 Population: 3\n",
      "Day: 2 Population: 3.6\n",
      "Day: 3 Population: 4.32\n",
      "Day: 4 Population: 5.184\n",
      "Day: 5 Population: 6.2208000000000006\n"
     ]
    }
   ],
   "source": [
    "number=int(input(\"Enter number of organisms :\"))\n",
    "dailypopulationincrease=float(input(\"Enter the average daily population increase :\"))\n",
    "multiplydays=int(input(\"Enter number of days the organisms will be left to multiply :\"))\n",
    "dailypopulationincrease =dailypopulationincrease / 100\n",
    "for days in range( 1 , multiplydays +1):\n",
    "    print(\"Day:\",days,\"Population:\",number)\n",
    "    number=number + ( dailypopulationincrease * number )"
   ]
  },
  {
   "cell_type": "code",
   "execution_count": null,
   "id": "d29e3237",
   "metadata": {},
   "outputs": [],
   "source": []
  }
 ],
 "metadata": {
  "kernelspec": {
   "display_name": "Python 3",
   "language": "python",
   "name": "python3"
  },
  "language_info": {
   "codemirror_mode": {
    "name": "ipython",
    "version": 3
   },
   "file_extension": ".py",
   "mimetype": "text/x-python",
   "name": "python",
   "nbconvert_exporter": "python",
   "pygments_lexer": "ipython3",
   "version": "3.8.8"
  }
 },
 "nbformat": 4,
 "nbformat_minor": 5
}
